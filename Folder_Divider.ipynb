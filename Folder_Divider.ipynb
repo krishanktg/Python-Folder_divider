{
 "cells": [
  {
   "cell_type": "code",
   "execution_count": 7,
   "id": "b27e2e20",
   "metadata": {},
   "outputs": [
    {
     "name": "stdout",
     "output_type": "stream",
     "text": [
      "Folder you want to create: 1\n",
      "Folder 0 created\n",
      "Total Files: 10\n"
     ]
    }
   ],
   "source": [
    "import shutil\n",
    "import os\n",
    "\n",
    "n=int(input(\"Folder you want to create: \"))\n",
    "l = list(range(n))\n",
    "list_string = map(str, l)\n",
    "# path where you want to create folders\n",
    "parent_dir = r\"C:\\Users\\Krishna\\Downloads\\folder_split\\\\\"\n",
    "for i in list_string:\n",
    "    path = os.path.join(parent_dir, i)\n",
    "    os.makedirs(path)\n",
    "    print(f\"Folder {i} created\")\n",
    "\n",
    "# path of folder containing files\n",
    "dir_path = r'C:\\Users\\Krishna\\Downloads\\folder_split\\new\\\\'\n",
    "files = os.listdir(dir_path)\n",
    "count = 0\n",
    "\n",
    "for path in os.listdir(dir_path):\n",
    "    # check if current path is a file\n",
    "    if os.path.isfile(os.path.join(dir_path, path)):\n",
    "        count += 1\n",
    "print('Total Files:', count)\n",
    "\n",
    "\n",
    "for k in l:\n",
    "    for f in files[count//n*k:count//n*(k+1)]:\n",
    "        shutil.move(dir_path + f, parent_dir+ f\"{k}\")\n"
   ]
  }
 ],
 "metadata": {
  "kernelspec": {
   "display_name": "Python 3 (ipykernel)",
   "language": "python",
   "name": "python3"
  },
  "language_info": {
   "codemirror_mode": {
    "name": "ipython",
    "version": 3
   },
   "file_extension": ".py",
   "mimetype": "text/x-python",
   "name": "python",
   "nbconvert_exporter": "python",
   "pygments_lexer": "ipython3",
   "version": "3.9.13"
  }
 },
 "nbformat": 4,
 "nbformat_minor": 5
}
